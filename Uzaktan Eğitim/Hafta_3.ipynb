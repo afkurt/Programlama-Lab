In [2]:
from sympy import Symbol, pprint
import sympy as sym
import matplotlib.pyplot as plt
%matplotlib inline
In [3]:
p = Symbol('p') #p = olasılık ifadesi
n = Symbol('n') #n = örneklem  uzayı ifadesi
x = Symbol('x') #x = örnek olay ifadesi
In [4]:
my_f_3_part_0 = sym.factorial(n)/(sym.factorial(x)*sym.factorial(n-x))
pprint(my_f_3_part_0)
     n!    
───────────
x!⋅(n - x)!
In [5]:
my_f_3_part_1 = p**x
pprint(my_f_3_part_1)
 x
p 
In [6]:
my_f_3_part_2 = (1-p)**(n-x)
pprint(my_f_3_part_2)
       n - x
(1 - p)     
In [7]:
my_f_3 = my_f_3_part_0*my_f_3_part_1*my_f_3_part_2
pprint(my_f_3)
 x        n - x   
p ⋅(1 - p)     ⋅n!
──────────────────
   x!⋅(n - x)!    
In [8]:
sym.plot(my_f_3.subs({p:0.5,n:50}),(x,0,50),title ="Binomal Distribution plot for n = 50")

Out[8]:
<sympy.plotting.plot.Plot at 0x16825dc38d0>
In [9]:
x_value=[]
y_value=[]
for value in range(50):
    y = my_f_3.subs({p:0.5,n:50,x:value}).evalf() # value değerine göre y elde ediliyor
    y_value.append(y) # y değerleri listeye ekleniyor
    x_value.append(value) # value değerleri listeye ekleniyor
plt.plot(x_value,y_value) # spesifik value ve y değerleri baz alınarak grafik çiziliyor
Out[9]:
[<matplotlib.lines.Line2D at 0x16826f1c438>]
