In [1]:
from sympy import Symbol, pprint, Limit
In [2]:
t = Symbol('t') 
St = 5*t**2 + 2*t + 8
In [3]:
t1 = Symbol('t1')
delta_t = Symbol('delta_t')
St1 = St.subs({t: t1})
St1_delta = St.subs({t: t1 + delta_t})
In [4]:
pprint((St1_delta-St1)/delta_t) # oluşturduğumuz fonksiyon
           2              2
2⋅δₜ - 5⋅t₁  + 5⋅(δₜ + t₁) 
───────────────────────────
             δₜ            
In [5]:
pprint(Limit((St1_delta-St1)/delta_t, delta_t, 0).doit()) # oluşturduğumuz fonksiyonda (delta_t -> 0) giderkenki limiti
10⋅t₁ + 2
